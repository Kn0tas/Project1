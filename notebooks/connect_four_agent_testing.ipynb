{
 "cells": [
  {
   "cell_type": "code",
   "execution_count": null,
   "metadata": {},
   "outputs": [],
   "source": [
    "%load_ext autoreload\n",
    "%autoreload 2\n",
    "\n",
    "import pygame\n",
    "import time\n",
    "import numpy as np\n",
    "\n",
    "from connect_four.backend.game import agent_by_mark, ConnectFourEnv, next_mark # possibly need to set export DISPLAY=:0 in terminal?\n",
    "from connect_four.backend.play_human import HumanAgent\n",
    "# does this need to run?\n",
    "# pygame.display.list_modes()"
   ]
  },
  {
   "cell_type": "code",
   "execution_count": null,
   "metadata": {},
   "outputs": [],
   "source": [
    "# 10k results ca 84-82-81%\n",
    "print(sum(AI_WON_LST), len(AI_WON_LST))\n",
    "sum(AI_WON_LST)/len(AI_WON_LST)"
   ]
  },
  {
   "cell_type": "code",
   "execution_count": null,
   "metadata": {},
   "outputs": [],
   "source": [
    "# 100k results ca 84-84-85%\n",
    "print(sum(AI_WON_LST),len(AI_WON_LST))\n",
    "sum(AI_WON_LST)/len(AI_WON_LST)"
   ]
  },
  {
   "cell_type": "code",
   "execution_count": null,
   "metadata": {},
   "outputs": [],
   "source": [
    "# 100 agent result: ca: 65%\n",
    "print(sum(AI_WON_LST),len(AI_WON_LST))\n",
    "sum(AI_WON_LST)/len(AI_WON_LST)"
   ]
  },
  {
   "cell_type": "code",
   "execution_count": null,
   "metadata": {},
   "outputs": [],
   "source": [
    "# win rate prior to win-fast rewards: 0.98\n",
    "print(sum(AI_WON_LST),len(AI_WON_LST))\n",
    "sum(AI_WON_LST)/len(AI_WON_LST)"
   ]
  },
  {
   "cell_type": "code",
   "execution_count": null,
   "metadata": {},
   "outputs": [],
   "source": [
    "# win rate AFTER to win-fast rewards: 0.98\n",
    "print(sum(AI_WON_LST),len(AI_WON_LST))\n",
    "sum(AI_WON_LST)/len(AI_WON_LST)"
   ]
  },
  {
   "cell_type": "code",
   "execution_count": null,
   "metadata": {},
   "outputs": [],
   "source": []
  },
  {
   "cell_type": "code",
   "execution_count": null,
   "metadata": {
    "scrolled": true
   },
   "outputs": [],
   "source": [
    "# RUN SINGLE AGENT \"GAME\" vs random Agent\n",
    "import time\n",
    "import random\n",
    "\n",
    "env = ConnectFourEnv(show_number=False, interactive_mode = True)\n",
    "state = env.reset()\n",
    "observation, mark = state\n",
    "done = False\n",
    "#draw_board(board)\n",
    "\n",
    "# load agent\n",
    "from connect_four.backend.train_sb_agent import ConnectFourA2C\n",
    "loaded_agent = ConnectFourA2C.load('a2c_agent_50k_vs100kA2C')\n",
    "\n",
    "opponent_agent = ConnectFourA2C.load('a2c_agent_100k')\n",
    "\n",
    "\n",
    "# Enjoy trained agent\n",
    "\n",
    "NUM_GAMES_TO_PLAY = 1000\n",
    "AI_WON_LST = []\n",
    "for _ in range(NUM_GAMES_TO_PLAY):\n",
    "    \n",
    "    if _ % 100 == 0:\n",
    "        print('Num games played: ', _)\n",
    "\n",
    "    state = env.reset()\n",
    "    observation, mark = state\n",
    "    done = False\n",
    "\n",
    "    while not done:\n",
    "        action = loaded_agent.predict_with_invalid_mask(observation, env = env)\n",
    "        state, rewards, done, info = env._step(action)\n",
    "        if done:\n",
    "            #print(i)\n",
    "            print(f'Winner: mr AI')\n",
    "            #env.render()\n",
    "            AI_WON_LST.append(1)\n",
    "            #env.render()\n",
    "            #time.sleep(8)\n",
    "            break\n",
    "        observation, mark = state\n",
    "        \n",
    "        if opponent_agent == 'random':\n",
    "            all_actions = [0,1,2,3,4,5,6]\n",
    "            valid_actions = [a for a in all_actions if env.check_action_valid(a)]\n",
    "            action = random.choice(valid_actions)\n",
    "        else:\n",
    "            action = opponent_agent.predict_with_invalid_mask(observation, env = env)\n",
    "\n",
    "        state, reward, done, info = env._step(action)\n",
    "        observation, mark = state \n",
    "        if done:\n",
    "            print(f'Winner: mr Random')\n",
    "            AI_WON_LST.append(0)\n",
    "            #env.render()\n",
    "            #time.sleep(8)\n",
    "            #break\n",
    "            \n",
    "        #env.render()\n",
    "        #time.sleep(2)\n",
    "\n"
   ]
  },
  {
   "cell_type": "code",
   "execution_count": null,
   "metadata": {},
   "outputs": [],
   "source": []
  }
 ],
 "metadata": {
  "kernelspec": {
   "display_name": "Python 3",
   "language": "python",
   "name": "python3"
  },
  "language_info": {
   "codemirror_mode": {
    "name": "ipython",
    "version": 3
   },
   "file_extension": ".py",
   "mimetype": "text/x-python",
   "name": "python",
   "nbconvert_exporter": "python",
   "pygments_lexer": "ipython3",
   "version": "3.7.9"
  }
 },
 "nbformat": 4,
 "nbformat_minor": 2
}
