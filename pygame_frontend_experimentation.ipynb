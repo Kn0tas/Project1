{
 "cells": [
  {
   "cell_type": "code",
   "execution_count": 1,
   "id": "bibliographic-success",
   "metadata": {},
   "outputs": [
    {
     "name": "stdout",
     "output_type": "stream",
     "text": [
      "pygame 2.0.1 (SDL 2.0.14, Python 3.7.9)\n",
      "Hello from the pygame community. https://www.pygame.org/contribute.html\n"
     ]
    }
   ],
   "source": [
    "%load_ext autoreload\n",
    "%autoreload 2\n",
    "\n",
    "import pygame\n",
    "import time\n",
    "import numpy as np\n",
    "\n",
    "from game import agent_by_mark, ConnectFourEnv, next_mark # possibly need to set export DISPLAY=:0 in terminal?\n",
    "from play_human import HumanAgent\n",
    "# does this need to run?\n",
    "# pygame.display.list_modes()"
   ]
  },
  {
   "cell_type": "markdown",
   "id": "cathedral-badge",
   "metadata": {},
   "source": [
    "## TO RUN VIDEOSTUFF ON WINDOWS / WSL:\n",
    "- 1: start xming\n",
    "- 2: in __terminal__ (not VSCode!), prior to launching notebook, run export DISPLAY=:0"
   ]
  },
  {
   "cell_type": "code",
   "execution_count": 2,
   "id": "outer-houston",
   "metadata": {},
   "outputs": [],
   "source": [
    "# Define parameters\n",
    "\n",
    "NUM_ROWS = 6\n",
    "NUM_COLS = 7\n",
    "\n",
    "CELL_RADIUS = 20\n",
    "CELL_PADDING = 15\n",
    "\n",
    "BOARD_HEIGHT = NUM_ROWS * (2*CELL_RADIUS + CELL_PADDING) + CELL_PADDING\n",
    "BOARD_WIDTH = NUM_COLS * (2*CELL_RADIUS + CELL_PADDING) + CELL_PADDING\n",
    "\n",
    "#VELOCITY = 1\n",
    "MARKER_RADIUS = CELL_RADIUS\n",
    "\n",
    "BOARD_COLOR = pygame.Color('blue')\n",
    "CELL_COLOR = pygame.Color('black')\n",
    "MARKER_1_COLOR = pygame.Color('yellow')\n",
    "MARKER_2_COLOR = pygame.Color('red')\n",
    "\n",
    "DROP_PANEL_WIDTH = BOARD_WIDTH\n",
    "DROP_PANEL_HEIGHT = 80\n",
    "DROP_PANEL_COLOR = pygame.Color('black')\n",
    "\n",
    "SCREEN_WIDTH = BOARD_WIDTH\n",
    "SCREEN_HEIGHT = BOARD_HEIGHT + DROP_PANEL_HEIGHT"
   ]
  },
  {
   "cell_type": "code",
   "execution_count": 3,
   "id": "careful-collection",
   "metadata": {},
   "outputs": [],
   "source": [
    "pygame.init()\n",
    "\n",
    "screen = pygame.display.set_mode((SCREEN_WIDTH, SCREEN_HEIGHT)) # returns the surface where you can draw stuff\n",
    "pygame.draw.rect(screen, DROP_PANEL_COLOR, pygame.Rect((0,0), (DROP_PANEL_WIDTH, DROP_PANEL_HEIGHT)))\n",
    "pygame.draw.rect(screen, BOARD_COLOR, pygame.Rect((0,DROP_PANEL_HEIGHT), (SCREEN_WIDTH, SCREEN_HEIGHT)))\n",
    "#pygame.display.flip()\n",
    "\n",
    "\n",
    "# draw empty cells\n",
    "\n",
    "def draw_empty_board():\n",
    "    global screen\n",
    "    global CELL_RADIUS, CELL_PADDING, CELL_COLOR\n",
    "    global NUM_ROWS, NUM_COLS\n",
    "    \n",
    "    IDXS_TO_PIXEL_CORDS_MAP = dict()\n",
    "\n",
    "    y_pos = DROP_PANEL_HEIGHT + CELL_RADIUS + CELL_PADDING\n",
    "    for row_idx in range(NUM_ROWS):\n",
    "        x_pos = CELL_RADIUS + CELL_PADDING\n",
    "        for col_idx in range(NUM_COLS):\n",
    "            IDXS_TO_PIXEL_CORDS_MAP[(row_idx, col_idx)] = (x_pos, y_pos)\n",
    "            pygame.draw.circle(screen, CELL_COLOR, (x_pos, y_pos), CELL_RADIUS)\n",
    "            x_pos += 2 * CELL_RADIUS + CELL_PADDING\n",
    "        y_pos += 2 * CELL_RADIUS + CELL_PADDING\n",
    "    \n",
    "    return IDXS_TO_PIXEL_CORDS_MAP\n",
    "\n",
    "IDXS_TO_PIXEL_CORDS_MAP = draw_empty_board()\n",
    "\n",
    "\n",
    "def draw_board(board):\n",
    "    global IDXS_TO_PIXEL_CORDS_MAP\n",
    "    \n",
    "    if isinstance(board, tuple): # undo board flattening\n",
    "        board = np.array(board).reshape(6, 7)\n",
    "    else:\n",
    "        board = board.reshape(6,7)\n",
    "        \n",
    "    color_map = {0: CELL_COLOR, -1: MARKER_1_COLOR, 1: MARKER_2_COLOR}\n",
    "    \n",
    "    for row_index in range(board.shape[0]):\n",
    "        for col_index in range(board.shape[1]):            \n",
    "            marker_value = board[row_index, col_index]\n",
    "            marker_color = color_map[int(marker_value)]\n",
    "            pygame.draw.circle(screen, marker_color, IDXS_TO_PIXEL_CORDS_MAP[(row_index, col_index)], CELL_RADIUS)\n",
    "\n",
    "\n"
   ]
  },
  {
   "cell_type": "code",
   "execution_count": 4,
   "id": "military-bundle",
   "metadata": {},
   "outputs": [
    {
     "data": {
      "text/plain": [
       "<module 'time' (built-in)>"
      ]
     },
     "execution_count": 4,
     "metadata": {},
     "output_type": "execute_result"
    }
   ],
   "source": [
    "time"
   ]
  },
  {
   "cell_type": "code",
   "execution_count": 5,
   "id": "dirty-raising",
   "metadata": {},
   "outputs": [
    {
     "name": "stderr",
     "output_type": "stream",
     "text": [
      "/home/olof/anaconda3/envs/FourInARow/lib/python3.7/site-packages/gym/logger.py:30: UserWarning: \u001b[33mWARN: Box bound precision lowered by casting to float32\u001b[0m\n",
      "  warnings.warn(colorize('%s: %s'%('WARN', msg % args), 'yellow'))\n"
     ]
    },
    {
     "name": "stdout",
     "output_type": "stream",
     "text": [
      "O's turn.\n",
      "O's turn.\n",
      "O's turn.\n",
      "O's turn.\n",
      "O's turn.\n",
      "The winner is player: -1\n",
      "The winner is player: -1\n",
      "==== Finished: Winner is 'O'! ====\n",
      "\n"
     ]
    }
   ],
   "source": [
    "# run HUM vs AI game\n",
    "from train_sb_agent import ConnectFourA2C\n",
    "\n",
    "env = ConnectFourEnv(show_number=False,\n",
    "                     interactive_mode = True,\n",
    "                     opponent = 'random')\n",
    "#agents = [\n",
    "#    HumanAgent('O'), #HumanAgent('X')]\n",
    "#    ConnectFourA2C.load('a2c_agent_50k_vs100kA2C')\n",
    "#]\n",
    "\n",
    "human_agent = HumanAgent('O')\n",
    "ai_agent = ConnectFourA2C.load('a2c_agent_50k_vs100kA2C')\n",
    "    \n",
    "state = env.reset()\n",
    "board, mark = state\n",
    "done = False\n",
    "draw_board(board)\n",
    "\n",
    "\n",
    "try:\n",
    "    pygame.display.flip()\n",
    "    while True:\n",
    "        e = pygame.event.poll()\n",
    "        if e.type == pygame.QUIT:\n",
    "            break\n",
    "\n",
    "        pygame.display.flip()\n",
    "\n",
    "        #checks if a mouse is clicked\n",
    "        if e.type == pygame.MOUSEBUTTONDOWN: \n",
    "            # Human plays        \n",
    "            CLICK_ACTION = int(mouse_x // (SCREEN_WIDTH/NUM_COLS))\n",
    "            env.show_turn(True, mark)\n",
    "            ava_actions = env.available_actions()\n",
    "            action, action_is_valid = human_agent.pygame_act(ava_actions,CLICK_ACTION)\n",
    "\n",
    "            if not action_is_valid:\n",
    "                print('Invalid action not supported, exiting!')\n",
    "                pygame.quit()\n",
    "                break\n",
    "\n",
    "            state, reward, done, info = env._step(action)\n",
    "            observation, mark = state\n",
    "            if done:\n",
    "                env.show_result(True, mark, reward)\n",
    "                break\n",
    "\n",
    "            # AI plays\n",
    "            action = ai_agent.predict_with_invalid_mask(observation, env = env)\n",
    "            state, rewards, done, info = env._step(action)\n",
    "            observation, mark = state\n",
    "            draw_board(observation)\n",
    "            if done:\n",
    "                env.show_result(True, mark, reward)\n",
    "                break\n",
    "\n",
    "        mouse_x, mouse_y = pygame.mouse.get_pos()\n",
    "    draw_board(observation)\n",
    "    time.sleep(5)\n",
    "    pygame.quit()\n",
    "\n",
    "except Exception as e:\n",
    "    \n",
    "    pygame.quit()\n",
    "    raise e"
   ]
  },
  {
   "cell_type": "code",
   "execution_count": null,
   "id": "established-nickname",
   "metadata": {},
   "outputs": [],
   "source": []
  },
  {
   "cell_type": "code",
   "execution_count": null,
   "id": "reliable-candy",
   "metadata": {},
   "outputs": [],
   "source": []
  },
  {
   "cell_type": "code",
   "execution_count": null,
   "id": "printable-cigarette",
   "metadata": {},
   "outputs": [],
   "source": []
  },
  {
   "cell_type": "code",
   "execution_count": null,
   "id": "original-routine",
   "metadata": {},
   "outputs": [],
   "source": []
  }
 ],
 "metadata": {
  "kernelspec": {
   "display_name": "Python 3",
   "language": "python",
   "name": "python3"
  },
  "language_info": {
   "codemirror_mode": {
    "name": "ipython",
    "version": 3
   },
   "file_extension": ".py",
   "mimetype": "text/x-python",
   "name": "python",
   "nbconvert_exporter": "python",
   "pygments_lexer": "ipython3",
   "version": "3.7.9"
  }
 },
 "nbformat": 4,
 "nbformat_minor": 5
}
