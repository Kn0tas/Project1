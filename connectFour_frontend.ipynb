{
 "cells": [
  {
   "cell_type": "code",
   "execution_count": null,
   "metadata": {},
   "outputs": [],
   "source": [
    "import pygame\n",
    "import time\n",
    "# possibly need to set export DISPLAY=:0 in terminal?\n",
    "\n",
    "# does this need to run?\n",
    "# pygame.display.list_modes()"
   ]
  },
  {
   "cell_type": "markdown",
   "metadata": {},
   "source": [
    "## TO RUN VIDEOSTUFF:\n",
    "- 1: start xming\n",
    "- 2: in terminal launching notebook, run export DISPLAY=:0"
   ]
  },
  {
   "cell_type": "code",
   "execution_count": null,
   "metadata": {},
   "outputs": [],
   "source": [
    "SCREEN_HEIGHT"
   ]
  },
  {
   "cell_type": "code",
   "execution_count": null,
   "metadata": {},
   "outputs": [],
   "source": [
    "CELL_RADIUS"
   ]
  },
  {
   "cell_type": "code",
   "execution_count": null,
   "metadata": {},
   "outputs": [],
   "source": [
    "\n",
    "NUM_ROWS = 6\n",
    "NUM_COLS = 7\n",
    "\n",
    "CELL_RADIUS = 20\n",
    "CELL_PADDING = 15\n",
    "\n",
    "SCREEN_HEIGHT = NUM_ROWS * (2*CELL_RADIUS + CELL_PADDING) + 2*CELL_PADDING\n",
    "SCREEN_WIDTH = NUM_COLS * (2*CELL_RADIUS + CELL_PADDING) + 2*CELL_PADDING\n",
    "\n",
    "VELOCITY = 1\n",
    "\n",
    "BOARD_COLOR = pygame.Color('green')\n",
    "CELL_COLOR = pygame.Color('black')\n",
    "\n",
    "\n",
    "CELL_PADDING"
   ]
  },
  {
   "cell_type": "code",
   "execution_count": null,
   "metadata": {},
   "outputs": [],
   "source": [
    "pygame.init()\n",
    "\n",
    "screen = pygame.display.set_mode((SCREEN_WIDTH, SCREEN_HEIGHT)) # returns the surface where you can draw stuff\n",
    "\n",
    "pygame.draw.rect(screen, BOARD_COLOR, pygame.Rect((0,0), (SCREEN_WIDTH,SCREEN_HEIGHT)))\n",
    "\n",
    "\n",
    "# draw empty cells\n",
    "\n",
    "y_pos = CELL_RADIUS + CELL_PADDING\n",
    "for _ in range(NUM_ROWS):\n",
    "    x_pos = CELL_RADIUS + CELL_PADDING\n",
    "    for _ in range(NUM_COLS):\n",
    "        pygame.draw.circle(screen, CELL_COLOR, (x_pos, y_pos), CELL_RADIUS)\n",
    "        x_pos += 2 * CELL_RADIUS + CELL_PADDING\n",
    "    y_pos += 2 * CELL_RADIUS + CELL_PADDING\n",
    "\n",
    "    #break\n",
    "\n",
    "#pygame.draw.circle(screen, CELL_COLOR, (SCREEN_WIDTH/2, SCREEN_HEIGHT/2), CELL_RADIUS)\n",
    "\n",
    "# run game\n",
    "\n",
    "pygame.display.flip()\n",
    "time.sleep(1)\n",
    "while True:\n",
    "    e = pygame.event.poll()\n",
    "    if e.type == pygame.QUIT:\n",
    "        break\n",
    "        #time.sleep(10)\n",
    "    pygame.display.flip()\n",
    "    ballplay.update()\n",
    "        \n",
    "pygame.quit()"
   ]
  },
  {
   "cell_type": "code",
   "execution_count": null,
   "metadata": {},
   "outputs": [],
   "source": [
    "y_pos"
   ]
  },
  {
   "cell_type": "code",
   "execution_count": null,
   "metadata": {},
   "outputs": [],
   "source": [
    "xpos"
   ]
  },
  {
   "cell_type": "code",
   "execution_count": null,
   "metadata": {},
   "outputs": [],
   "source": []
  },
  {
   "cell_type": "markdown",
   "metadata": {},
   "source": [
    "## OLD PONG STUFF"
   ]
  },
  {
   "cell_type": "code",
   "execution_count": null,
   "metadata": {},
   "outputs": [],
   "source": [
    "class Ball:\n",
    "    \n",
    "    RADIUS = 20\n",
    "    \n",
    "    def __init__(self, x, y, vx, vy):\n",
    "        self.x = x\n",
    "        self.y = y\n",
    "        self.vx = vx\n",
    "        self.vy = vy\n",
    "        \n",
    "    def show(self, color):\n",
    "        global screen # take screen from global vars        \n",
    "        pygame.draw.circle(screen, color, (self.x, self.y), self.RADIUS)\n",
    "    \n",
    "    def update(self):\n",
    "        global ballColor, bgColor\n",
    "        self.show(bgColor) # hides the current ball\n",
    "        newx = self.x + self.vx\n",
    "        newy = self.y + self.vy\n",
    "        \n",
    "        if newx < BORDER + self.RADIUS:\n",
    "            self.vx = -self.vx\n",
    "        elif newy < BORDER + self.RADIUS or newy > SCREEN_HEIGHT - (BORDER + self.RADIUS):\n",
    "            self.vy = -self.vy\n",
    "        else:\n",
    "            self.x = newx\n",
    "            self.y = newy\n",
    "            self.show(ballColor)\n",
    "         \n",
    "class Paddle:\n",
    "    PADDLE_WIDTH = 20\n",
    "    PADDÖE_HEIGHT = 100\n",
    "\n",
    "    def __init__(self, y):\n",
    "        self.y = y\n",
    "\n",
    "    def show(self, color):\n",
    "        global screen, paddleColor\n",
    "        pygame.draw.rect(screen, paddleColor, )\n"
   ]
  },
  {
   "cell_type": "code",
   "execution_count": null,
   "metadata": {},
   "outputs": [],
   "source": [
    "pygame.init()\n",
    "\n",
    "SCREEN_WIDTH = 1200\n",
    "SCREEN_HEIGHT = 600\n",
    "BORDER = 20\n",
    "VELOCITY = 1\n",
    "\n",
    "screen = pygame.display.set_mode((SCREEN_WIDTH, SCREEN_HEIGHT)) # returns the surface where you can draw stuff\n",
    "\n",
    "fgColor = pygame.Color('green')\n",
    "bgColor = pygame.Color('black')\n",
    "ballColor = pygame.Color('red')\n",
    "paddleColor = pygame.Color('yellow')\n",
    "\n",
    "# draw the borders\n",
    "pygame.draw.rect(screen, fgColor, pygame.Rect((0,0), (SCREEN_WIDTH,BORDER)))\n",
    "pygame.draw.rect(screen, fgColor, pygame.Rect((0,0), (BORDER, SCREEN_HEIGHT)))\n",
    "pygame.draw.rect(screen, fgColor, pygame.Rect((0, SCREEN_HEIGHT-BORDER), (SCREEN_WIDTH,BORDER)))\n",
    "\n",
    "# draw the ball\n",
    "ballplay = Ball(SCREEN_WIDTH-Ball.RADIUS, SCREEN_HEIGHT // 2, -VELOCITY, VELOCITY)\n",
    "ballplay.show(ballColor)\n",
    "\n",
    "pygame.display.flip()\n",
    "\n",
    "time.sleep(10)\n",
    "\n",
    "while True:\n",
    "    e = pygame.event.poll()\n",
    "    if e.type == pygame.QUIT:\n",
    "        break\n",
    "        #time.sleep(10)\n",
    "\n",
    "    pygame.display.flip()\n",
    "    ballplay.update()\n",
    "        \n",
    "pygame.quit()"
   ]
  },
  {
   "cell_type": "code",
   "execution_count": null,
   "metadata": {},
   "outputs": [],
   "source": [
    "pygame.quit()"
   ]
  },
  {
   "cell_type": "code",
   "execution_count": null,
   "metadata": {},
   "outputs": [],
   "source": [
    "help(pygame.draw.rect)"
   ]
  },
  {
   "cell_type": "code",
   "execution_count": null,
   "metadata": {},
   "outputs": [],
   "source": [
    "import numpy "
   ]
  },
  {
   "cell_type": "code",
   "execution_count": null,
   "metadata": {},
   "outputs": [],
   "source": []
  },
  {
   "cell_type": "markdown",
   "metadata": {},
   "source": [
    "Notes -- pygame / graphics with WSL\n",
    "\n",
    "WSL stödjer inte grafiska saker (linux kör X11)\n",
    "\n",
    "Dock finns något som heter Xming som gör så att X11 funkar inuti windows(?)\n",
    "- https://stackoverflow.com/questions/53124539/pygame-video-not-initialized-and-no-video-found-using-ubuntu-terminal-from-wi\n",
    "\n",
    "X-ming downloads: https://sourceforge.net/projects/xming/\n"
   ]
  },
  {
   "cell_type": "code",
   "execution_count": null,
   "metadata": {},
   "outputs": [],
   "source": []
  }
 ],
 "metadata": {
  "kernelspec": {
   "display_name": "Python 3",
   "language": "python",
   "name": "python3"
  },
  "language_info": {
   "codemirror_mode": {
    "name": "ipython",
    "version": 3
   },
   "file_extension": ".py",
   "mimetype": "text/x-python",
   "name": "python",
   "nbconvert_exporter": "python",
   "pygments_lexer": "ipython3",
   "version": "3.7.9"
  }
 },
 "nbformat": 4,
 "nbformat_minor": 2
}
